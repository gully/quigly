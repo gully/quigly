{
 "cells": [
  {
   "cell_type": "markdown",
   "metadata": {},
   "source": [
    "# Numpy version test on synthetic data"
   ]
  },
  {
   "cell_type": "code",
   "execution_count": 1,
   "metadata": {
    "collapsed": true
   },
   "outputs": [],
   "source": [
    "import sys\n",
    "import os"
   ]
  },
  {
   "cell_type": "code",
   "execution_count": 2,
   "metadata": {
    "collapsed": true
   },
   "outputs": [],
   "source": [
    "# %load ~/Desktop/defaults.py\n",
    "#import pandas as pd\n",
    "#import numpy as np\n",
    "import matplotlib.pyplot as plt\n",
    "%matplotlib inline\n",
    "%config InlineBackend.figure_format = 'retina'"
   ]
  },
  {
   "cell_type": "code",
   "execution_count": 3,
   "metadata": {
    "collapsed": true
   },
   "outputs": [],
   "source": [
    "#sys.path.append(os.path.abspath(\"../code/\"))"
   ]
  },
  {
   "cell_type": "code",
   "execution_count": 4,
   "metadata": {
    "collapsed": true
   },
   "outputs": [],
   "source": [
    "#from quigly import *"
   ]
  },
  {
   "cell_type": "code",
   "execution_count": 5,
   "metadata": {
    "collapsed": true
   },
   "outputs": [],
   "source": [
    "# %load ../code/quigly.py\n",
    "import numpy as np\n",
    "\n",
    "def get_C_j(phi_a, phi_b, phi_c):\n",
    "    '''Return the GMM covariance matrix given phi parameters'''\n",
    "    v11 = np.exp(2.0*phi_a)\n",
    "    v12 = phi_c*np.exp(phi_a)\n",
    "    v22 = phi_c**2 + np.exp(2.0*phi_b)\n",
    "    C_j = np.matrix([[v11, v12],[v12, v22]])\n",
    "    return C_j\n",
    "\n",
    "def get_gmm_j(x, y, x_j, y_j, C_j):\n",
    "    '''Returns the j^th normalized Gaussian mixture model'''\n",
    "    x = x - x_j\n",
    "    y = y - y_j\n",
    "    rr = np.stack([x,y], axis=0)\n",
    "    exp_arg = np.sum(rr * np.linalg.solve(C_j, rr), axis=0)\n",
    "    gmm_j_raw = np.exp(-0.5 * exp_arg)\n",
    "    normalization = 2.0*np.pi*np.sqrt(np.linalg.det(C_j))\n",
    "    gmm_j = 1.0/normalization * gmm_j_raw\n",
    "    return gmm_j\n",
    "\n",
    "\n",
    "def gmm_z_js(theta_js):\n",
    "    '''Return the GMM z_j's given components and theta_js'''\n",
    "    z_js = np.ones(len(theta_js)+1)\n",
    "    for j, theta_j in enumerate(theta_js):\n",
    "        z_js[j+1] = z_js[j] + np.exp(-theta_js[j])\n",
    "    z_js = z_js / np.sum(z_js)\n",
    "    return z_js\n",
    "\n",
    "\n",
    "def compute_model_a(x, y, z_js, x_js, y_js, phi_as, phi_bs, phi_cs):\n",
    "    '''Takes in x, y and GMM kernel params, returns model'''\n",
    "    N_GMM, = x_js.shape\n",
    "    gmm_out = 0.0\n",
    "    for j in range(N_GMM):\n",
    "        C_j = get_C_j(phi_as[j], phi_bs[j], phi_cs[j])\n",
    "        gmm_out += z_js[j] * get_gmm_j(x, y, x_js[j], y_js[j], C_j)\n",
    "    return gmm_out\n",
    "\n",
    "def get_f_star_nocov(A, sigma_r, d):\n",
    "    '''Compute the profile likelihood of the stellar fluxes'''\n",
    "    #For now ignore the covariance matrix, assume homoscedastic\n",
    "    ATA = np.dot(A.T, A / sigma_r)\n",
    "    f_star = np.linalg.solve(ATA, np.dot(A.T, d/sigma_r))\n",
    "    return f_star\n",
    "\n",
    "def get_A_matrix(x, y, x_c, y_c, kernel_params):\n",
    "    '''Return the column-wise concatenated A matrix'''\n",
    "    N_stars = len(x_c)\n",
    "    xx = x[:, np.newaxis] - x_c.T\n",
    "    yy = y[:, np.newaxis] - y_c.T\n",
    "    A_matrix = np.zeros(xx.shape)\n",
    "    for i in range(N_stars):\n",
    "        z_js, x_js, y_js, phi_as, phi_bs, phi_cs = kernel_params.T\n",
    "        A_matrix[:, i] = compute_model_a(xx[:,i], yy[:,i], \n",
    "                                         z_js, x_js, y_js, phi_as, phi_bs, phi_cs)\n",
    "    return A_matrix\n",
    "\n",
    "def split_params(params, N_star, N_GMM):\n",
    "    '''Split/clean all parameters into star and Kernel parameters'''\n",
    "    star_params = params[0:N_star*2].reshape((N_star, -1))\n",
    "    fixed_gmm_params = np.array([1, 0, 0])\n",
    "    kern_params = np.hstack([fixed_gmm_params, params[N_star*2:]]).reshape((N_GMM, -1))\n",
    "    kern_params[:, 0] = gmm_z_js(kern_params[1:, 0])\n",
    "    return star_params, kern_params\n",
    "\n",
    "def lnlike(params):\n",
    "    '''Return the likelihood given the parameters'''\n",
    "    star_params, kern_params = split_params(params, 4, 3)\n",
    "\n",
    "    x_c, y_c = star_params[0, :], star_params[1, :]\n",
    "\n",
    "    # Just a homoscedastic noise matrix for now\n",
    "    #C_noise_matrix = get_C_matrix(sigma_r, N_pix)\n",
    "\n",
    "    # Get the design matrix for stellar fluxes\n",
    "    A_matrix = get_A_matrix(x, y, x_c, y_c, kern_params)\n",
    "\n",
    "    # Compute the profile likelihood for stellar fluxes\n",
    "    f_star = get_f_star_nocov(A_matrix, sigma_r, data)\n",
    "\n",
    "    model = np.dot(A_matrix, f_star)\n",
    "    resid = data - model\n",
    "    lnlike_out = np.dot(resid.T, resid / yerr**2)\n",
    "    return lnlike_out"
   ]
  },
  {
   "cell_type": "code",
   "execution_count": 6,
   "metadata": {
    "collapsed": true
   },
   "outputs": [],
   "source": [
    "star_true = np.array([[10.3, 20.5],\n",
    "                        [83.1, 45.3],\n",
    "                        [60.8, 80.9],\n",
    "                        [80.8, 10.5]])\n",
    "\n",
    "f_true = np.array([520.5, 1403.9, 3511.1, 1590.9])*4.0\n",
    "\n",
    "x_ctrue, y_ctrue = star_true[:, 0], star_true[:, 1]\n",
    "\n",
    "kern_true = np.array([   [0.50,  0.0,  0.0, 0.8, 0.5, 0.1],\n",
    "                         [0.35,  2.5, -3.1, 0.2, 0.2, 0.5],\n",
    "                         [0.15, -9.9,  0.5, 1.5, 2.2, 0.2] ] )"
   ]
  },
  {
   "cell_type": "code",
   "execution_count": 7,
   "metadata": {
    "collapsed": true
   },
   "outputs": [],
   "source": [
    "# Data preparation.  This should happen outside the likelihood!\n",
    "\n",
    "sigma_r = 4.0 # read noise\n",
    "yerr = sigma_r\n",
    "data_2D = np.load('../data/synthetic_100x100.npy')\n",
    "nx_pix, ny_pix = data_2D.shape\n",
    "xpix = np.arange(0, nx_pix, 1)\n",
    "ypix = np.arange(0, ny_pix, 1)\n",
    "\n",
    "xv, yv = np.meshgrid(xpix, ypix)\n",
    "x = xv.reshape(-1)\n",
    "y = yv.reshape(-1)\n",
    "\n",
    "data = data_2D.reshape(-1)\n",
    "\n",
    "N_pix = np.shape(data)"
   ]
  },
  {
   "cell_type": "code",
   "execution_count": 8,
   "metadata": {},
   "outputs": [
    {
     "data": {
      "image/png": "[encoded data removed]",
      "text/plain": [
       "<matplotlib.figure.Figure at 0xa148f85c0>"
      ]
     },
     "metadata": {
      "image/png": {
       "height": 251,
       "width": 253
      }
     },
     "output_type": "display_data"
    }
   ],
   "source": [
    "plt.imshow(data_2D)\n",
    "for i in range(4):\n",
    "    plt.plot(x_ctrue[i], y_ctrue[i], 'ko', ms=2)\n",
    "    plt.plot(x_ctrue[i], y_ctrue[i], 'wo', ms=1)\n",
    "    plt.text(x_ctrue[i], y_ctrue[i]+10, 'ABCD'[i], color='w')"
   ]
  },
  {
   "cell_type": "markdown",
   "metadata": {},
   "source": [
    "## Compute the ln likelihood for the image"
   ]
  },
  {
   "cell_type": "code",
   "execution_count": 9,
   "metadata": {
    "collapsed": true
   },
   "outputs": [],
   "source": [
    "kern_guess = np.hstack([                  [0.8, 0.5, 0.1],\n",
    "                         [0.3,  2.5, -3.1, 0.2, 0.2, 0.5],\n",
    "                         [0.6, -9.9,  0.5, 1.5, 2.2, 0.2] ] )"
   ]
  },
  {
   "cell_type": "code",
   "execution_count": 10,
   "metadata": {
    "collapsed": true
   },
   "outputs": [],
   "source": [
    "params = np.hstack((star_true.reshape(-1), kern_guess))"
   ]
  },
  {
   "cell_type": "code",
   "execution_count": 11,
   "metadata": {
    "collapsed": true
   },
   "outputs": [],
   "source": [
    "N_star = 4\n",
    "N_GMM = 3"
   ]
  },
  {
   "cell_type": "code",
   "execution_count": 12,
   "metadata": {},
   "outputs": [
    {
     "name": "stdout",
     "output_type": "stream",
     "text": [
      "5.91 ms ± 706 µs per loop (mean ± std. dev. of 7 runs, 100 loops each)\n"
     ]
    }
   ],
   "source": [
    "%%timeit\n",
    "lnlike(params)"
   ]
  },
  {
   "cell_type": "markdown",
   "metadata": {},
   "source": [
    "Woohoo it computes!  However, we have not tested the code to verify that we get what we expect!"
   ]
  }
 ],
 "metadata": {
  "kernelspec": {
   "display_name": "Python 3",
   "language": "python",
   "name": "python3"
  },
  "language_info": {
   "codemirror_mode": {
    "name": "ipython",
    "version": 3
   },
   "file_extension": ".py",
   "mimetype": "text/x-python",
   "name": "python",
   "nbconvert_exporter": "python",
   "pygments_lexer": "ipython3",
   "version": "3.6.3"
  }
 },
 "nbformat": 4,
 "nbformat_minor": 2
}
