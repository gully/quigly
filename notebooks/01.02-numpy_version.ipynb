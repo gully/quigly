{
 "cells": [
  {
   "cell_type": "markdown",
   "metadata": {},
   "source": [
    "# Numpy version -- untested!"
   ]
  },
  {
   "cell_type": "markdown",
   "metadata": {},
   "source": [
    "In this notebook we define the following functions:\n",
    "\n",
    "|Function name| Description|\n",
    "| -- | -- |\n",
    "| `get_gmm_j` | Returns the $j^{th}$ Gaussian mixture model|\n",
    "| `get_C_j` | Returns the $j^{th}$ GMM covariance matrix|\n",
    "| `gmm_kernel` | Returns the sum of the $N_{GMM}$ Gaussian mixture models|\n",
    "| `get_A_matrix` | Return the column-wise concatenated $A$ matrix|\n",
    "| `compute_f_star` | Computes the $f^{*}$, the vector of stellar fluxes|\n",
    "| `init_N_stars` | Initialize the locations of $N_stars$|\n",
    "| `lnlike` | Compute the log likelihood|\n",
    "\n",
    "\n",
    "These functions have the following inputs and outputs:\n",
    "\n",
    "|Function name| Input| Output |\n",
    "| -- | -- | -- |\n",
    "| `get_gmm_j` | $x_j, y_j$, $C_j$ | $\\mathcal{G_j}$|\n",
    "| `get_C_j` | $\\phi_{a,b,c,j}$ | $C_j$|\n",
    "| `gmm_kernel` | $\\mathcal{G_j}$, $z_j$| $\\mathcal{K}$|\n",
    "| `get_C_matrix` | $\\sigma_r$, $N_{pix}$| $\\mathsf{C}$|\n",
    "| `get_A_matrix` | $\\mathcal{K}$, $(x_c, y_c)$'s| $\\mathsf{A}$|\n",
    "| `get_f_star` | $\\mathsf{A}$, $\\mathsf{C}$, $\\mathsf{d}$|$f^{*}$|\n",
    "| `init_N_stars` | catalog *or* image| $(x_c,y_c)$| \n",
    "| `lnlike` | all parameters |log likelihood|"
   ]
  },
  {
   "cell_type": "code",
   "execution_count": 1,
   "metadata": {
    "collapsed": true
   },
   "outputs": [],
   "source": [
    "# %load ~/Desktop/defaults.py\n",
    "import pandas as pd\n",
    "import numpy as np\n",
    "import matplotlib.pyplot as plt\n",
    "%matplotlib inline\n",
    "%config InlineBackend.figure_format = 'retina'"
   ]
  },
  {
   "cell_type": "code",
   "execution_count": 2,
   "metadata": {
    "collapsed": true
   },
   "outputs": [],
   "source": [
    "def get_C_j(phi_a, phi_b, phi_c):\n",
    "    '''Return the GMM covariance matrix given phi parameters'''\n",
    "    v11 = np.exp(2.0*phi_a)\n",
    "    v12 = phi_c*np.exp(phi_a)\n",
    "    v22 = phi_c**2 + np.exp(2.0*phi_b)\n",
    "    C_j = np.matrix([[v11, v12],[v12, v22]])\n",
    "    return C_j"
   ]
  },
  {
   "cell_type": "code",
   "execution_count": 3,
   "metadata": {
    "collapsed": true
   },
   "outputs": [],
   "source": [
    "def get_gmm_j(x, y, x_j, y_j, C_j):\n",
    "    '''Returns the j^th normalized Gaussian mixture model'''\n",
    "    x = x - x_j\n",
    "    y = y - y_j\n",
    "    rr = np.stack([x,y], axis=0)\n",
    "    exp_arg = np.sum(rr * np.linalg.solve(C_j, rr), axis=0)\n",
    "    gmm_j_raw = np.exp(-0.5 * exp_arg)\n",
    "    print(exp_arg.shape)\n",
    "    normalization = 2.0*np.pi*np.sqrt(np.linalg.det(C_j))\n",
    "    gmm_j = 1.0/normalization * gmm_j_raw\n",
    "    return gmm_j"
   ]
  },
  {
   "cell_type": "code",
   "execution_count": 4,
   "metadata": {
    "collapsed": true
   },
   "outputs": [],
   "source": [
    "def gmm_z_js(theta_js):\n",
    "    '''Return the GMM z_j's given components and theta_js'''\n",
    "    z_js = np.ones(len(theta_js)+1)\n",
    "    for j, theta_j in enumerate(theta_js):\n",
    "        z_js[j+1] = z_js[j] + np.exp(-theta_js[j])\n",
    "    z_js = z_js / np.sum(z_js)\n",
    "    return z_js"
   ]
  },
  {
   "cell_type": "code",
   "execution_count": 5,
   "metadata": {
    "collapsed": true
   },
   "outputs": [],
   "source": [
    "def compute_model_a(x, y, z_js, x_js, y_js, phi_as, phi_bs, phi_cs):\n",
    "    '''Takes in x, y and GMM kernel params, returns model'''\n",
    "    N_GMM = x_js.shape\n",
    "    gmm_out = 0.0\n",
    "    for j in range(N_GMM):\n",
    "        C_j = get_C_j(phi_as[j], phi_bs[j], phi_cs[j])\n",
    "        gmm_out += z_js[j] * get_gmm_j(x, y, x_js[j], y_js[j], C_js[j])\n",
    "    return gmm_out"
   ]
  },
  {
   "cell_type": "code",
   "execution_count": 6,
   "metadata": {
    "collapsed": true
   },
   "outputs": [],
   "source": [
    "def get_C_matrix(sigma_r, Npix):\n",
    "    '''Return the noise covariance matrix'''\n",
    "    return np.eye(Npix) * sigma_r**2"
   ]
  },
  {
   "cell_type": "code",
   "execution_count": 7,
   "metadata": {},
   "outputs": [],
   "source": [
    "def get_f_star_nocov(A, sigma_r, d):\n",
    "    '''Compute the profile likelihood of the stellar fluxes'''\n",
    "    #For now ignore the covariance matrix, assume homoscedastic\n",
    "    ATA = np.dot(A.T, A / sigma_r)\n",
    "    f_star = np.linalg.solve(ATA, np.dot(A.T, d/sigma_r))\n",
    "    return f_star"
   ]
  },
  {
   "cell_type": "code",
   "execution_count": 8,
   "metadata": {},
   "outputs": [],
   "source": [
    "def get_A_matrix(x, y, x_c, y_c, kernel_params):\n",
    "    '''Return the column-wise concatenated A matrix'''\n",
    "    N_stars = len(x_c)\n",
    "    xx = x[:, np.newaxis] - x_c.T\n",
    "    yy = y[:, np.newaxis] - y_c.T\n",
    "    A_matrix = np.zeros(xx.shape)\n",
    "    for i in range(N_stars):\n",
    "        A_matrix[:, i] = compute_model_a(xx[:,i], yy[:,i],*kernel_params)\n",
    "    return A_matrix"
   ]
  },
  {
   "cell_type": "code",
   "execution_count": 9,
   "metadata": {
    "collapsed": true
   },
   "outputs": [],
   "source": [
    "def split_params(params, N_star, N_GMM):\n",
    "    '''Split/clean all parameters into star and Kernel parameters'''\n",
    "    star_params = params[0:N_star*2].reshape(N_star)\n",
    "    kern_params = np.stack([[1, 0, 0], params[N_star*2:]]).reshape(N_GMM)\n",
    "    kern_params[1:, 0] = gmm_z_js(kern_params[1:, 0])\n",
    "    return star_params, kern_params"
   ]
  },
  {
   "cell_type": "code",
   "execution_count": 10,
   "metadata": {
    "collapsed": true
   },
   "outputs": [],
   "source": [
    "def init_N_stars(x_cg, y_cg, f_g):\n",
    "    '''Initialize the starting locations of the guesses'''\n",
    "    return (x_cg, y_cg, f_g)"
   ]
  },
  {
   "cell_type": "code",
   "execution_count": 11,
   "metadata": {},
   "outputs": [],
   "source": [
    "# Data preparation.  This should happen outside the likelihood!\n",
    "\n",
    "sigma_r = 4.0 # read noise\n",
    "data_2D = np.ones((100,100))\n",
    "nx_pix, ny_pix = data_2D.shape\n",
    "xpix = np.arange(0, nx_pix, 1)\n",
    "ypix = np.arange(0, ny_pix, 1)\n",
    "\n",
    "xv, yv = np.meshgrid(xpix, ypix)\n",
    "x = xv.reshape(-1)\n",
    "y = yv.reshape(-1)\n",
    "\n",
    "data = data_2D.reshape(-1)\n",
    "\n",
    "N_pix = np.shape(data)"
   ]
  },
  {
   "cell_type": "code",
   "execution_count": 12,
   "metadata": {
    "collapsed": true
   },
   "outputs": [],
   "source": [
    "def lnlike(params):\n",
    "    '''Return the likelihood given the parameters'''\n",
    "    star_params, kern_params = split_params(params)\n",
    "    \n",
    "    x_c, y_c = star_params[0, :], star_params[1, :]\n",
    "    \n",
    "    # Just a homoscedastic noise matrix for now\n",
    "    #C_noise_matrix = get_C_matrix(sigma_r, N_pix)\n",
    "    \n",
    "    # Get the design matrix for stellar fluxes\n",
    "    A_matrix = get_A_matrix(x, y, x_c, y_c, kern_params)\n",
    "    \n",
    "    # Compute the profile likelihood for stellar fluxes\n",
    "    f_star = get_f_star_nocov(A_matrix, sigma_r, data)\n",
    "    \n",
    "    model = np.dot(A_matrix, f_star)\n",
    "    resid = data - model\n",
    "    lnlike_out = np.dot(resid.T, resid / yerr**2)\n",
    "    return 0.0"
   ]
  },
  {
   "cell_type": "markdown",
   "metadata": {},
   "source": [
    "Warning! Untested version!"
   ]
  }
 ],
 "metadata": {
  "kernelspec": {
   "display_name": "Python 3",
   "language": "python",
   "name": "python3"
  },
  "language_info": {
   "codemirror_mode": {
    "name": "ipython",
    "version": 3
   },
   "file_extension": ".py",
   "mimetype": "text/x-python",
   "name": "python",
   "nbconvert_exporter": "python",
   "pygments_lexer": "ipython3",
   "version": "3.6.3"
  }
 },
 "nbformat": 4,
 "nbformat_minor": 2
}
