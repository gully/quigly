{
 "cells": [
  {
   "cell_type": "markdown",
   "metadata": {},
   "source": [
    "# Numpy version test on synthetic data"
   ]
  },
  {
   "cell_type": "markdown",
   "metadata": {},
   "source": [
    "In this notebook we define the following functions:\n",
    "\n",
    "|Function name| Description|\n",
    "| -- | -- |\n",
    "| `get_gmm_j` | Returns the $j^{th}$ Gaussian mixture model|\n",
    "| `get_C_j` | Returns the $j^{th}$ GMM covariance matrix|\n",
    "| `gmm_kernel` | Returns the sum of the $N_{GMM}$ Gaussian mixture models|\n",
    "| `get_A_matrix` | Return the column-wise concatenated $A$ matrix|\n",
    "| `compute_f_star` | Computes the $f^{*}$, the vector of stellar fluxes|\n",
    "| `init_N_stars` | Initialize the locations of $N_stars$|\n",
    "| `lnlike` | Compute the log likelihood|\n",
    "\n",
    "\n",
    "These functions have the following inputs and outputs:\n",
    "\n",
    "|Function name| Input| Output |\n",
    "| -- | -- | -- |\n",
    "| `get_gmm_j` | $x_j, y_j$, $C_j$ | $\\mathcal{G_j}$|\n",
    "| `get_C_j` | $\\phi_{a,b,c,j}$ | $C_j$|\n",
    "| `gmm_kernel` | $\\mathcal{G_j}$, $z_j$| $\\mathcal{K}$|\n",
    "| `get_C_matrix` | $\\sigma_r$, $N_{pix}$| $\\mathsf{C}$|\n",
    "| `get_A_matrix` | $\\mathcal{K}$, $(x_c, y_c)$'s| $\\mathsf{A}$|\n",
    "| `get_f_star` | $\\mathsf{A}$, $\\mathsf{C}$, $\\mathsf{d}$|$f^{*}$|\n",
    "| `init_N_stars` | catalog *or* image| $(x_c,y_c)$| \n",
    "| `lnlike` | all parameters |log likelihood|"
   ]
  },
  {
   "cell_type": "code",
   "execution_count": 1,
   "metadata": {
    "collapsed": true
   },
   "outputs": [],
   "source": [
    "# %load ~/Desktop/defaults.py\n",
    "import pandas as pd\n",
    "import numpy as np\n",
    "import matplotlib.pyplot as plt\n",
    "%matplotlib inline\n",
    "%config InlineBackend.figure_format = 'retina'"
   ]
  },
  {
   "cell_type": "code",
   "execution_count": 2,
   "metadata": {
    "collapsed": true
   },
   "outputs": [],
   "source": [
    "def get_C_j(phi_a, phi_b, phi_c):\n",
    "    '''Return the GMM covariance matrix given phi parameters'''\n",
    "    v11 = np.exp(2.0*phi_a)\n",
    "    v12 = phi_c*np.exp(phi_a)\n",
    "    v22 = phi_c**2 + np.exp(2.0*phi_b)\n",
    "    C_j = np.matrix([[v11, v12],[v12, v22]])\n",
    "    return C_j"
   ]
  },
  {
   "cell_type": "code",
   "execution_count": 3,
   "metadata": {
    "collapsed": true
   },
   "outputs": [],
   "source": [
    "def get_gmm_j(x, y, x_j, y_j, C_j):\n",
    "    '''Returns the j^th normalized Gaussian mixture model'''\n",
    "    x = x - x_j\n",
    "    y = y - y_j\n",
    "    rr = np.stack([x,y], axis=0)\n",
    "    exp_arg = np.sum(rr * np.linalg.solve(C_j, rr), axis=0)\n",
    "    gmm_j_raw = np.exp(-0.5 * exp_arg)\n",
    "    normalization = 2.0*np.pi*np.sqrt(np.linalg.det(C_j))\n",
    "    gmm_j = 1.0/normalization * gmm_j_raw\n",
    "    return gmm_j"
   ]
  },
  {
   "cell_type": "code",
   "execution_count": 7,
   "metadata": {
    "collapsed": true
   },
   "outputs": [],
   "source": [
    "def compute_model_a(x, y, z_js, x_js, y_js, phi_as, phi_bs, phi_cs):\n",
    "    '''Takes in x, y and GMM kernel params, returns model'''\n",
    "    N_GMM, = x_js.shape\n",
    "    gmm_out = 0.0\n",
    "    for j in range(N_GMM):\n",
    "        C_j = get_C_j(phi_as[j], phi_bs[j], phi_cs[j])\n",
    "        gmm_out += z_js[j] * get_gmm_j(x, y, x_js[j], y_js[j], C_j)\n",
    "    return gmm_out"
   ]
  },
  {
   "cell_type": "code",
   "execution_count": 9,
   "metadata": {
    "collapsed": true
   },
   "outputs": [],
   "source": [
    "def get_f_star_nocov(A, sigma_r, d):\n",
    "    '''Compute the profile likelihood of the stellar fluxes'''\n",
    "    #For now ignore the covariance matrix, assume homoscedastic\n",
    "    ATA = np.dot(A.T, A / sigma_r)\n",
    "    f_star = np.linalg.solve(ATA, np.dot(A.T, d/sigma_r))\n",
    "    return f_star"
   ]
  },
  {
   "cell_type": "code",
   "execution_count": 10,
   "metadata": {
    "collapsed": true
   },
   "outputs": [],
   "source": [
    "def get_A_matrix(x, y, x_c, y_c, kernel_params):\n",
    "    '''Return the column-wise concatenated A matrix'''\n",
    "    N_stars = len(x_c)\n",
    "    xx = x[:, np.newaxis] - x_c.T\n",
    "    yy = y[:, np.newaxis] - y_c.T\n",
    "    A_matrix = np.zeros(xx.shape)\n",
    "    for i in range(N_stars):\n",
    "        A_matrix[:, i] = compute_model_a(xx[:,i], yy[:,i],*kernel_params)\n",
    "    return A_matrix"
   ]
  },
  {
   "cell_type": "code",
   "execution_count": 13,
   "metadata": {
    "collapsed": true
   },
   "outputs": [],
   "source": [
    "# Data preparation.  This should happen outside the likelihood!\n",
    "\n",
    "sigma_r = 4.0 # read noise\n",
    "data_2D = np.ones((100,100))\n",
    "nx_pix, ny_pix = data_2D.shape\n",
    "xpix = np.arange(0, nx_pix, 1)\n",
    "ypix = np.arange(0, ny_pix, 1)\n",
    "\n",
    "xv, yv = np.meshgrid(xpix, ypix)\n",
    "x = xv.reshape(-1)\n",
    "y = yv.reshape(-1)\n",
    "\n",
    "data = data_2D.reshape(-1)\n",
    "\n",
    "N_pix = np.shape(data)"
   ]
  },
  {
   "cell_type": "markdown",
   "metadata": {},
   "source": [
    "## Synthetic data!"
   ]
  },
  {
   "cell_type": "markdown",
   "metadata": {},
   "source": [
    "We'll start with 4 stars and 3 GMMs."
   ]
  },
  {
   "cell_type": "code",
   "execution_count": 15,
   "metadata": {
    "collapsed": true
   },
   "outputs": [],
   "source": [
    "star_params = np.array([[10.3, 20.5],\n",
    "                        [83.1, 45.3],\n",
    "                        [60.8, 80.9],\n",
    "                        [80.8, 10.5]])\n",
    "\n",
    "f_synth = np.array([520.5, 1403.9, 3511.1, 1590.9])*4.0\n",
    "\n",
    "x_c, y_c = star_params[:, 0], star_params[:, 1]\n",
    "\n",
    "kern_params = np.array([ [0.5,  0.0,  0.0, 0.8, 0.5, 0.1],\n",
    "                         [0.35,  2.5, -3.1, 0.2, 0.2, 0.5],\n",
    "                         [0.15, -9.9,  0.5, 1.5, 2.2, 0.2] ] )"
   ]
  },
  {
   "cell_type": "code",
   "execution_count": 16,
   "metadata": {},
   "outputs": [],
   "source": [
    "A_matrix = get_A_matrix(x, y, x_c, y_c, kern_params.T)"
   ]
  },
  {
   "cell_type": "code",
   "execution_count": 18,
   "metadata": {},
   "outputs": [],
   "source": [
    "model = np.dot(A_matrix, f_synth)"
   ]
  },
  {
   "cell_type": "code",
   "execution_count": 20,
   "metadata": {
    "collapsed": true
   },
   "outputs": [],
   "source": [
    "model_image = model.reshape((nx_pix, ny_pix))"
   ]
  },
  {
   "cell_type": "code",
   "execution_count": 21,
   "metadata": {
    "collapsed": true
   },
   "outputs": [],
   "source": [
    "text = 'ABCD'"
   ]
  },
  {
   "cell_type": "code",
   "execution_count": 24,
   "metadata": {
    "collapsed": true
   },
   "outputs": [],
   "source": [
    "noise_arr = np.random.randn(nx_pix, ny_pix) * 4.5"
   ]
  },
  {
   "cell_type": "code",
   "execution_count": 25,
   "metadata": {},
   "outputs": [],
   "source": [
    "#fake_data = np.random.poisson(model_image) + noise_arr\n",
    "fake_data = model_image + noise_arr"
   ]
  },
  {
   "cell_type": "code",
   "execution_count": 26,
   "metadata": {},
   "outputs": [
    {
     "data": {
      "image/png": "[encoded data removed]",
      "text/plain": [
       "<matplotlib.figure.Figure at 0xa1b370dd8>"
      ]
     },
     "metadata": {
      "image/png": {
       "height": 251,
       "width": 253
      }
     },
     "output_type": "display_data"
    }
   ],
   "source": [
    "plt.imshow(fake_data)\n",
    "for i in range(4):\n",
    "    plt.text(x_c[i], y_c[i]+10, 'ABCD'[i], color='w')"
   ]
  },
  {
   "cell_type": "markdown",
   "metadata": {},
   "source": [
    "Save the fake data to a numpy array."
   ]
  },
  {
   "cell_type": "code",
   "execution_count": 27,
   "metadata": {
    "collapsed": true
   },
   "outputs": [],
   "source": [
    "!mkdir ../data"
   ]
  },
  {
   "cell_type": "code",
   "execution_count": 29,
   "metadata": {
    "collapsed": true
   },
   "outputs": [],
   "source": [
    "np.save('../data/synthetic_100x100.npy', fake_data)"
   ]
  },
  {
   "cell_type": "markdown",
   "metadata": {},
   "source": [
    "Warning! Untested version!"
   ]
  }
 ],
 "metadata": {
  "kernelspec": {
   "display_name": "Python 3",
   "language": "python",
   "name": "python3"
  },
  "language_info": {
   "codemirror_mode": {
    "name": "ipython",
    "version": 3
   },
   "file_extension": ".py",
   "mimetype": "text/x-python",
   "name": "python",
   "nbconvert_exporter": "python",
   "pygments_lexer": "ipython3",
   "version": "3.6.3"
  }
 },
 "nbformat": 4,
 "nbformat_minor": 2
}
